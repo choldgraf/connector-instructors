{
 "cells": [
  {
   "cell_type": "markdown",
   "metadata": {},
   "source": [
    "# Run the cell below\n",
    "This will create the function we use to convert URLs"
   ]
  },
  {
   "cell_type": "code",
   "execution_count": 1,
   "metadata": {
    "collapsed": true
   },
   "outputs": [],
   "source": [
    "def url_to_interact(url):\n",
    "    \"\"\"Create an interact link from a URL in github or data-8.org.\"\"\"\n",
    "    if 'github.com' in url:\n",
    "        name_split = 'data-8/'\n",
    "    elif 'data8.org' in url:\n",
    "        name_split = 'data8.org/'\n",
    "    else:\n",
    "        raise ValueError('Provide a URL for github.com or data8.org')\n",
    "    repo = url.split(name_split)[-1].split('/')[0]\n",
    "    name = url.split('/')[-1]\n",
    "    url_int = 'https://data8.berkeley.edu/hub/interact?repo={0}&path={1}'.format(repo, name)\n",
    "    print('Your interactive URL is:\\n---\\n{0}\\n---'.format(url_int))\n",
    "    return url_int"
   ]
  },
  {
   "cell_type": "markdown",
   "metadata": {},
   "source": [
    "# Type a URL to your github file below and run the cell\n",
    "It must be part of the \"data8\" repositories."
   ]
  },
  {
   "cell_type": "code",
   "execution_count": 3,
   "metadata": {
    "collapsed": false
   },
   "outputs": [
    {
     "name": "stdout",
     "output_type": "stream",
     "text": [
      "Your interactive URL is:\n",
      "---\n",
      "https://data8.berkeley.edu/hub/interact?repo=ethics-connector&path=stylesheets\n",
      "---\n"
     ]
    }
   ],
   "source": [
    "my_url = 'https://github.com/data-8/ethics-connector/tree/gh-pages/stylesheets'\n",
    "interact_url = url_to_interact(my_url)"
   ]
  },
  {
   "cell_type": "code",
   "execution_count": null,
   "metadata": {
    "collapsed": true
   },
   "outputs": [],
   "source": []
  }
 ],
 "metadata": {
  "kernelspec": {
   "display_name": "Python 2",
   "language": "python",
   "name": "python2"
  },
  "language_info": {
   "codemirror_mode": {
    "name": "ipython",
    "version": 2
   },
   "file_extension": ".py",
   "mimetype": "text/x-python",
   "name": "python",
   "nbconvert_exporter": "python",
   "pygments_lexer": "ipython2",
   "version": "2.7.11"
  }
 },
 "nbformat": 4,
 "nbformat_minor": 0
}
