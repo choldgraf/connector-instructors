{
 "cells": [
  {
   "cell_type": "markdown",
   "metadata": {},
   "source": [
    "# Run the cell below\n",
    "This will create the function we use to convert URLs"
   ]
  },
  {
   "cell_type": "code",
   "execution_count": 4,
   "metadata": {
    "collapsed": true
   },
   "outputs": [],
   "source": [
    "def url_to_interact(url):\n",
    "    \"\"\"Create an interact link from a URL in github or data-8.org.\"\"\"\n",
    "    # First define the repo name\n",
    "    if 'github.com' in url:\n",
    "        repo_split = 'data-8/'\n",
    "    elif 'data8.org' in url:\n",
    "        repo_split = 'data8.org/'\n",
    "    else:\n",
    "        raise ValueError('Provide a URL for github.com or data8.org')\n",
    "    repo = url.split(repo_split)[-1].split('/')[0]\n",
    "\n",
    "    # Now pull file path/name\n",
    "    name_split = 'gh-pages/' if 'github.com' in url else repo + '/'\n",
    "    name = url.split(name_split)[-1]\n",
    "\n",
    "    url_int = 'https://data8.berkeley.edu/hub/interact?repo={0}&path={1}'.format(repo, name)\n",
    "    print('Your interactive URL is:\\n---\\n{0}\\n---'.format(url_int))\n",
    "    return url_int"
   ]
  },
  {
   "cell_type": "markdown",
   "metadata": {},
   "source": [
    "# Type a URL to your github file below and run the cell\n",
    "It must be part of the \"data8\" repositories."
   ]
  },
  {
   "cell_type": "code",
   "execution_count": 5,
   "metadata": {
    "collapsed": false
   },
   "outputs": [
    {
     "name": "stdout",
     "output_type": "stream",
     "text": [
      "Your interactive URL is:\n",
      "---\n",
      "https://data8.berkeley.edu/hub/interact?repo=ethics-connector&path=stylesheets\n",
      "---\n"
     ]
    }
   ],
   "source": [
    "my_url = 'https://github.com/data-8/ethics-connector/tree/gh-pages/stylesheets'\n",
    "interact_url = url_to_interact(my_url)"
   ]
  },
  {
   "cell_type": "markdown",
   "metadata": {},
   "source": [
    "# Example URLs"
   ]
  },
  {
   "cell_type": "code",
   "execution_count": 7,
   "metadata": {
    "collapsed": false
   },
   "outputs": [
    {
     "name": "stdout",
     "output_type": "stream",
     "text": [
      "Your interactive URL is:\n",
      "---\n",
      "https://data8.berkeley.edu/hub/interact?repo=ethics-connector&path=stylesheets\n",
      "---\n",
      "Your interactive URL is:\n",
      "---\n",
      "https://data8.berkeley.edu/hub/interact?repo=smart-cities-connector&path=labs_in_progress/Minilab3%20-%20Mapping%20travel%20times.ipynb\n",
      "---\n",
      "Your interactive URL is:\n",
      "---\n",
      "https://data8.berkeley.edu/hub/interact?repo=cs-connector&path=Perfect_Numbers_Final.ipynb\n",
      "---\n"
     ]
    }
   ],
   "source": [
    "urls = ['https://github.com/data-8/ethics-connector/tree/gh-pages/stylesheets',\n",
    "        'https://github.com/data-8/smart-cities-connector/blob/gh-pages/labs_in_progress/Minilab3%20-%20Mapping%20travel%20times.ipynb',\n",
    "        'data8.org/cs-connector/Perfect_Numbers_Final.ipynb']\n",
    "for url in urls:\n",
    "    _ = url_to_interact(url)"
   ]
  },
  {
   "cell_type": "code",
   "execution_count": null,
   "metadata": {
    "collapsed": true
   },
   "outputs": [],
   "source": []
  }
 ],
 "metadata": {
  "kernelspec": {
   "display_name": "Python 2",
   "language": "python",
   "name": "python2"
  },
  "language_info": {
   "codemirror_mode": {
    "name": "ipython",
    "version": 2
   },
   "file_extension": ".py",
   "mimetype": "text/x-python",
   "name": "python",
   "nbconvert_exporter": "python",
   "pygments_lexer": "ipython2",
   "version": "2.7.11"
  }
 },
 "nbformat": 4,
 "nbformat_minor": 0
}
